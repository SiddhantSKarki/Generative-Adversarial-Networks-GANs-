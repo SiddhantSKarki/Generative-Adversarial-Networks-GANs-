{
 "cells": [
  {
   "cell_type": "markdown",
   "id": "be623a73-e75d-44e1-b029-15ea3c0b0b4b",
   "metadata": {},
   "source": [
    "# Generative Adversial Networks (GANs)\n",
    "\n",
    "## Notebook Author: Sid Karki\n",
    "\n",
    "\n",
    "### Overview\n",
    "<p>Generative Adversarial Networks (GANs) were first proposed by Dr. Ian Goodfellow et al. in 2014. The concept introduced a novel and unique approach to generative modeling. At its core, a GAN consists of two competing networks: <b>a Discriminator</b> and <b>a Generator</b>.</p>\n",
    "\n",
    "<p>Let’s begin with the Generator. The Generator takes as input a random vector <i>x</i>, sampled from a prior distribution (commonly a uniform or Gaussian distribution). This input is transformed through the Generator to produce an output <i>z</i>. The role of the Discriminator is to evaluate this output.</p>\n",
    "\n",
    "<p>The Discriminator receives two types of inputs: <b>real data</b> from the actual dataset and <b>synthetic data</b> produced by the Generator. Its task is to distinguish between the two — to determine whether a given input is genuine or generated. Meanwhile, the Generator’s goal is to “fool” the Discriminator by producing outputs that resemble real data as closely as possible.</p>\n",
    "\n",
    "<p>The result? The Discriminator becomes increasingly skilled at identifying fake data, while the Generator simultaneously improves at producing realistic synthetic data. </p>\n"
   ]
  },
  {
   "cell_type": "markdown",
   "id": "cea30377-b4ba-4bf4-87a7-49c1cdeb7dce",
   "metadata": {},
   "source": [
    "# Dataset we'll be using is CIFAR-10"
   ]
  },
  {
   "cell_type": "code",
   "execution_count": 1,
   "id": "faa06bbf-a34b-4b8b-aac8-9162eeee49d2",
   "metadata": {},
   "outputs": [],
   "source": [
    "import torch\n",
    "import torch.nn as nn\n",
    "import torch.optim as optim\n",
    "from torch.utils.tensorboard import SummaryWriter \n",
    "from torch.utils.data import DataLoader\n",
    "import torchvision.utils as vutils\n",
    "from torchvision.transforms import Compose, ToTensor  \n",
    "from torchvision.datasets import CIFAR10\n",
    "\n",
    "import numpy as np\n",
    "import seaborn as sns"
   ]
  },
  {
   "cell_type": "code",
   "execution_count": 2,
   "id": "a1c0bab0-c653-4ef8-bff1-e47218757b5c",
   "metadata": {},
   "outputs": [
    {
     "name": "stderr",
     "output_type": "stream",
     "text": [
      "100.0%\n"
     ]
    }
   ],
   "source": [
    "# transformations for the images\n",
    "transform = Compose([\n",
    "    ToTensor()\n",
    "])\n",
    "# downloading the dataset\n",
    "dataset = CIFAR10(root=\"../data/\", train=True, download=True, transform=transform)\n",
    "# training dataloader \n",
    "train_loader = DataLoader(dataset, batch_size=8, num_workers=2, shuffle=True)"
   ]
  },
  {
   "cell_type": "code",
   "execution_count": 76,
   "id": "11664419-49e6-41c1-92c3-1151074088d0",
   "metadata": {},
   "outputs": [],
   "source": [
    "import matplotlib.pyplot as plt\n",
    "def display_image(tensor):\n",
    "    numpy = tensor.detach().cpu().numpy()\n",
    "    numpy = np.swapaxes(numpy, 2, 0).swapaxes(0, 1)\n",
    "    plt.imshow(numpy)"
   ]
  },
  {
   "cell_type": "code",
   "execution_count": 79,
   "id": "6cfb1d8d-8df6-4d99-b7dd-3ea33d118dd4",
   "metadata": {},
   "outputs": [
    {
     "data": {
      "image/png": "[encoded data removed]",
      "text/plain": [
       "<Figure size 640x480 with 1 Axes>"
      ]
     },
     "metadata": {},
     "output_type": "display_data"
    }
   ],
   "source": [
    "# example Datapoint\n",
    "tensor_i = dataset[123][0]\n",
    "display_image(tensor_i)"
   ]
  },
  {
   "cell_type": "code",
   "execution_count": null,
   "id": "a88c609e-062b-493d-b7f1-f9bb17a88c3c",
   "metadata": {},
   "outputs": [],
   "source": []
  }
 ],
 "metadata": {
  "kernelspec": {
   "display_name": "Python 3 (ipykernel)",
   "language": "python",
   "name": "python3"
  },
  "language_info": {
   "codemirror_mode": {
    "name": "ipython",
    "version": 3
   },
   "file_extension": ".py",
   "mimetype": "text/x-python",
   "name": "python",
   "nbconvert_exporter": "python",
   "pygments_lexer": "ipython3",
   "version": "3.9.6"
  }
 },
 "nbformat": 4,
 "nbformat_minor": 5
}
