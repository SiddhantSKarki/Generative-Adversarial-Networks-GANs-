version https://git-lfs.github.com/spec/v1
oid sha256:d47db5de4ddbe265d43aa426dea314704823e40b5537b6571d545c7cc156f2c0
size 19174
